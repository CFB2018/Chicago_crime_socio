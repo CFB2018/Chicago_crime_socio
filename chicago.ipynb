{
 "cells": [
  {
   "cell_type": "markdown",
   "id": "4f2d62ac-44d3-4f29-b66d-351014ac83b5",
   "metadata": {},
   "source": [
    "### Chicago Census, School, and Crime Data Overview"
   ]
  },
  {
   "cell_type": "markdown",
   "id": "004e948f-88ae-4864-82da-254333bcdc5a",
   "metadata": {},
   "source": [
    "The datasets can be obtained from the Chicago Data Portal.\n",
    "1. Socioeconomic Indicators (2008-2012)\n",
    "2. Public Schools (2011-2012)\n",
    "3. Crime Data (2001-present) minus the most recent 7 days"
   ]
  },
  {
   "cell_type": "markdown",
   "id": "ca8f9b9d-11c8-493b-ab93-a93e5d209e44",
   "metadata": {},
   "source": [
    "!pip install ipython-sql prettytable\n",
    "import prettytable\n",
    "prettytable.DEFAULT = 'DEFAULT'\n",
    "%load_ext sql"
   ]
  },
  {
   "cell_type": "code",
   "execution_count": 526,
   "id": "bd66a071-510d-459c-922b-3d935f6c86b2",
   "metadata": {},
   "outputs": [],
   "source": [
    "import csv, sqlite3\n",
    "\n",
    "con = sqlite3.connect(\"FinalDB.db\")\n",
    "cur = con.cursor()\n",
    "!pip install pandas "
   ]
  },
  {
   "cell_type": "code",
   "execution_count": 220,
   "id": "2973024b-d01c-41d3-8a2b-2fd2d347430b",
   "metadata": {},
   "outputs": [],
   "source": [
    "# Connect to the database\n",
    "%sql sqlite:///FinalDB.db"
   ]
  },
  {
   "cell_type": "code",
   "execution_count": 221,
   "id": "32ec8cc0-612b-496d-a2fe-e76e1c4073d3",
   "metadata": {},
   "outputs": [
    {
     "data": {
      "text/plain": [
       "533"
      ]
     },
     "execution_count": 221,
     "metadata": {},
     "output_type": "execute_result"
    }
   ],
   "source": [
    "# Load the datasets into separate DataFrames\n",
    "import pandas\n",
    "census_df = pandas.read_csv('ChicagoCensusData.csv')\n",
    "schools_df = pandas.read_csv('ChicagoPublicSchools.csv')\n",
    "crime_df = pandas.read_csv('ChicagoCrimeData.csv')\n",
    "\n",
    "census_df.to_sql(\"ChicagoCensusData\", con, if_exists='replace', index=False,method=\"multi\")\n",
    "schools_df.to_sql(\"ChicagoPublicSchools\", con, if_exists='replace', index=False,method=\"multi\")\n",
    "crime_df.to_sql(\"ChicagoCrimeData\", con, if_exists='replace', index=False,method=\"multi\")"
   ]
  },
  {
   "cell_type": "code",
   "execution_count": 273,
   "id": "62f2bd27-edfd-4bbd-816a-f59f01a65c81",
   "metadata": {},
   "outputs": [
    {
     "name": "stdout",
     "output_type": "stream",
     "text": [
      " * sqlite:///FinalDB.db\n",
      "Done.\n"
     ]
    },
    {
     "data": {
      "text/html": [
       "<table>\n",
       "    <thead>\n",
       "        <tr>\n",
       "            <th>name</th>\n",
       "        </tr>\n",
       "    </thead>\n",
       "    <tbody>\n",
       "        <tr>\n",
       "            <td>ChicagoCensusData</td>\n",
       "        </tr>\n",
       "        <tr>\n",
       "            <td>ChicagoPublicSchools</td>\n",
       "        </tr>\n",
       "        <tr>\n",
       "            <td>ChicagoCrimeData</td>\n",
       "        </tr>\n",
       "    </tbody>\n",
       "</table>"
      ],
      "text/plain": [
       "[('ChicagoCensusData',), ('ChicagoPublicSchools',), ('ChicagoCrimeData',)]"
      ]
     },
     "execution_count": 273,
     "metadata": {},
     "output_type": "execute_result"
    }
   ],
   "source": [
    "%sql SELECT name FROM sqlite_master WHERE type='table';"
   ]
  },
  {
   "cell_type": "markdown",
   "id": "8f78934c-698e-43d2-a21d-a5ef44196555",
   "metadata": {},
   "source": [
    "#### Q1. Find the total number of crimes in the CRIME table"
   ]
  },
  {
   "cell_type": "code",
   "execution_count": 224,
   "id": "c4c876bb-d898-4c48-818a-ab310484291e",
   "metadata": {},
   "outputs": [
    {
     "name": "stdout",
     "output_type": "stream",
     "text": [
      " * sqlite:///FinalDB.db\n",
      "Done.\n"
     ]
    },
    {
     "data": {
      "text/html": [
       "<table>\n",
       "    <thead>\n",
       "        <tr>\n",
       "            <th>ID</th>\n",
       "            <th>CASE_NUMBER</th>\n",
       "            <th>DATE</th>\n",
       "            <th>BLOCK</th>\n",
       "            <th>IUCR</th>\n",
       "            <th>PRIMARY_TYPE</th>\n",
       "            <th>DESCRIPTION</th>\n",
       "            <th>LOCATION_DESCRIPTION</th>\n",
       "            <th>ARREST</th>\n",
       "            <th>DOMESTIC</th>\n",
       "            <th>BEAT</th>\n",
       "            <th>DISTRICT</th>\n",
       "            <th>WARD</th>\n",
       "            <th>COMMUNITY_AREA_NUMBER</th>\n",
       "            <th>FBICODE</th>\n",
       "            <th>X_COORDINATE</th>\n",
       "            <th>Y_COORDINATE</th>\n",
       "            <th>YEAR</th>\n",
       "            <th>LATITUDE</th>\n",
       "            <th>LONGITUDE</th>\n",
       "            <th>LOCATION</th>\n",
       "        </tr>\n",
       "    </thead>\n",
       "    <tbody>\n",
       "        <tr>\n",
       "            <td>3512276</td>\n",
       "            <td>HK587712</td>\n",
       "            <td>2004-08-28</td>\n",
       "            <td>047XX S KEDZIE AVE</td>\n",
       "            <td>890</td>\n",
       "            <td>THEFT</td>\n",
       "            <td>FROM BUILDING</td>\n",
       "            <td>SMALL RETAIL STORE</td>\n",
       "            <td>0</td>\n",
       "            <td>0</td>\n",
       "            <td>911</td>\n",
       "            <td>9</td>\n",
       "            <td>14.0</td>\n",
       "            <td>58.0</td>\n",
       "            <td>6</td>\n",
       "            <td>1155838.0</td>\n",
       "            <td>1873050.0</td>\n",
       "            <td>2004</td>\n",
       "            <td>41.8074405</td>\n",
       "            <td>-87.70395585</td>\n",
       "            <td>(41.8074405, -87.703955849)</td>\n",
       "        </tr>\n",
       "        <tr>\n",
       "            <td>3406613</td>\n",
       "            <td>HK456306</td>\n",
       "            <td>2004-06-26</td>\n",
       "            <td>009XX N CENTRAL PARK AVE</td>\n",
       "            <td>820</td>\n",
       "            <td>THEFT</td>\n",
       "            <td>$500 AND UNDER</td>\n",
       "            <td>OTHER</td>\n",
       "            <td>0</td>\n",
       "            <td>0</td>\n",
       "            <td>1112</td>\n",
       "            <td>11</td>\n",
       "            <td>27.0</td>\n",
       "            <td>23.0</td>\n",
       "            <td>6</td>\n",
       "            <td>1152206.0</td>\n",
       "            <td>1906127.0</td>\n",
       "            <td>2004</td>\n",
       "            <td>41.89827996</td>\n",
       "            <td>-87.71640551</td>\n",
       "            <td>(41.898279962, -87.716405505)</td>\n",
       "        </tr>\n",
       "        <tr>\n",
       "            <td>8002131</td>\n",
       "            <td>HT233595</td>\n",
       "            <td>2011-04-04</td>\n",
       "            <td>043XX S WABASH AVE</td>\n",
       "            <td>820</td>\n",
       "            <td>THEFT</td>\n",
       "            <td>$500 AND UNDER</td>\n",
       "            <td>NURSING HOME/RETIREMENT HOME</td>\n",
       "            <td>0</td>\n",
       "            <td>0</td>\n",
       "            <td>221</td>\n",
       "            <td>2</td>\n",
       "            <td>3.0</td>\n",
       "            <td>38.0</td>\n",
       "            <td>6</td>\n",
       "            <td>1177436.0</td>\n",
       "            <td>1876313.0</td>\n",
       "            <td>2011</td>\n",
       "            <td>41.81593313</td>\n",
       "            <td>-87.62464213</td>\n",
       "            <td>(41.815933131, -87.624642127)</td>\n",
       "        </tr>\n",
       "        <tr>\n",
       "            <td>7903289</td>\n",
       "            <td>HT133522</td>\n",
       "            <td>2010-12-30</td>\n",
       "            <td>083XX S KINGSTON AVE</td>\n",
       "            <td>840</td>\n",
       "            <td>THEFT</td>\n",
       "            <td>FINANCIAL ID THEFT: OVER $300</td>\n",
       "            <td>RESIDENCE</td>\n",
       "            <td>0</td>\n",
       "            <td>0</td>\n",
       "            <td>423</td>\n",
       "            <td>4</td>\n",
       "            <td>7.0</td>\n",
       "            <td>46.0</td>\n",
       "            <td>6</td>\n",
       "            <td>1194622.0</td>\n",
       "            <td>1850125.0</td>\n",
       "            <td>2010</td>\n",
       "            <td>41.74366532</td>\n",
       "            <td>-87.56246276</td>\n",
       "            <td>(41.743665322, -87.562462756)</td>\n",
       "        </tr>\n",
       "        <tr>\n",
       "            <td>10402076</td>\n",
       "            <td>HZ138551</td>\n",
       "            <td>2016-02-02</td>\n",
       "            <td>033XX W 66TH ST</td>\n",
       "            <td>820</td>\n",
       "            <td>THEFT</td>\n",
       "            <td>$500 AND UNDER</td>\n",
       "            <td>ALLEY</td>\n",
       "            <td>0</td>\n",
       "            <td>0</td>\n",
       "            <td>831</td>\n",
       "            <td>8</td>\n",
       "            <td>15.0</td>\n",
       "            <td>66.0</td>\n",
       "            <td>6</td>\n",
       "            <td>1155240.0</td>\n",
       "            <td>1860661.0</td>\n",
       "            <td>2016</td>\n",
       "            <td>41.7734553</td>\n",
       "            <td>-87.70648047</td>\n",
       "            <td>(41.773455295, -87.706480471)</td>\n",
       "        </tr>\n",
       "    </tbody>\n",
       "</table>"
      ],
      "text/plain": [
       "[(3512276, 'HK587712', '2004-08-28', '047XX S KEDZIE AVE', '890', 'THEFT', 'FROM BUILDING', 'SMALL RETAIL STORE', 0, 0, 911, 9, 14.0, 58.0, '6', 1155838.0, 1873050.0, 2004, 41.8074405, -87.70395585, '(41.8074405, -87.703955849)'),\n",
       " (3406613, 'HK456306', '2004-06-26', '009XX N CENTRAL PARK AVE', '820', 'THEFT', '$500 AND UNDER', 'OTHER', 0, 0, 1112, 11, 27.0, 23.0, '6', 1152206.0, 1906127.0, 2004, 41.89827996, -87.71640551, '(41.898279962, -87.716405505)'),\n",
       " (8002131, 'HT233595', '2011-04-04', '043XX S WABASH AVE', '820', 'THEFT', '$500 AND UNDER', 'NURSING HOME/RETIREMENT HOME', 0, 0, 221, 2, 3.0, 38.0, '6', 1177436.0, 1876313.0, 2011, 41.81593313, -87.62464213, '(41.815933131, -87.624642127)'),\n",
       " (7903289, 'HT133522', '2010-12-30', '083XX S KINGSTON AVE', '840', 'THEFT', 'FINANCIAL ID THEFT: OVER $300', 'RESIDENCE', 0, 0, 423, 4, 7.0, 46.0, '6', 1194622.0, 1850125.0, 2010, 41.74366532, -87.56246276, '(41.743665322, -87.562462756)'),\n",
       " (10402076, 'HZ138551', '2016-02-02', '033XX W 66TH ST', '820', 'THEFT', '$500 AND UNDER', 'ALLEY', 0, 0, 831, 8, 15.0, 66.0, '6', 1155240.0, 1860661.0, 2016, 41.7734553, -87.70648047, '(41.773455295, -87.706480471)')]"
      ]
     },
     "execution_count": 224,
     "metadata": {},
     "output_type": "execute_result"
    }
   ],
   "source": [
    "%sql SELECT * FROM ChicagoCrimeData limit 5;"
   ]
  },
  {
   "cell_type": "code",
   "execution_count": 225,
   "id": "2106ef25-a435-49bd-b278-b7dd34023b0f",
   "metadata": {},
   "outputs": [
    {
     "name": "stdout",
     "output_type": "stream",
     "text": [
      " * sqlite:///FinalDB.db\n",
      "Done.\n"
     ]
    },
    {
     "data": {
      "text/html": [
       "<table>\n",
       "    <thead>\n",
       "        <tr>\n",
       "            <th>Message</th>\n",
       "        </tr>\n",
       "    </thead>\n",
       "    <tbody>\n",
       "        <tr>\n",
       "            <td>The number of total crimes is: 533</td>\n",
       "        </tr>\n",
       "    </tbody>\n",
       "</table>"
      ],
      "text/plain": [
       "[('The number of total crimes is: 533',)]"
      ]
     },
     "execution_count": 225,
     "metadata": {},
     "output_type": "execute_result"
    }
   ],
   "source": [
    "%sql SELECT 'The number of total crimes is: ' || COUNT(*) AS Message FROM ChicagoCrimeData;"
   ]
  },
  {
   "cell_type": "code",
   "execution_count": 464,
   "id": "e9dbce82-a6a0-461b-a855-1105957dd0e2",
   "metadata": {},
   "outputs": [],
   "source": [
    "#%sql SELECT PRIMARY_TYPE, COUNT(*) AS FREQUENCY FROM ChicagoCrimeData GROUP BY PRIMARY_TYPE ORDER BY FREQUENCY DESC;"
   ]
  },
  {
   "cell_type": "code",
   "execution_count": 227,
   "id": "2cedfe5d-d29e-4094-8cc9-04b381c8f278",
   "metadata": {},
   "outputs": [
    {
     "name": "stdout",
     "output_type": "stream",
     "text": [
      " * sqlite:///FinalDB.db\n",
      "Done.\n"
     ]
    },
    {
     "data": {
      "image/png": "[encoded data removed]",
      "text/plain": [
       "<Figure size 1200x600 with 1 Axes>"
      ]
     },
     "metadata": {},
     "output_type": "display_data"
    }
   ],
   "source": [
    "import matplotlib.pyplot as plt\n",
    "%matplotlib inline\n",
    "import seaborn as sns\n",
    "# Execute the SQL query to get the frequency of crime types\n",
    "crime_data = %sql SELECT PRIMARY_TYPE, COUNT(*) AS FREQUENCY FROM ChicagoCrimeData GROUP BY PRIMARY_TYPE ORDER BY FREQUENCY DESC;\n",
    "\n",
    "# Convert the result to a DataFrame\n",
    "crime_df = crime_data.DataFrame()\n",
    "\n",
    "# Create a bar plot using Seaborn\n",
    "plt.figure(figsize=(12, 6))\n",
    "sns.barplot(data=crime_df, x='FREQUENCY', y='PRIMARY_TYPE', hue='PRIMARY_TYPE', palette='viridis', legend=False)\n",
    "\n",
    "# Add titles and labels\n",
    "plt.title('Frequency of Crime Types in Chicago')\n",
    "plt.xlabel('Frequency')\n",
    "plt.ylabel('Crime Type')\n",
    "\n",
    "# Show the plot\n",
    "plt.show()\n"
   ]
  },
  {
   "cell_type": "code",
   "execution_count": 466,
   "id": "11d00669-2360-4283-a598-95fdd1bb9b15",
   "metadata": {},
   "outputs": [],
   "source": [
    "#%sql SELECT COUNT(DISTINCT PRIMARY_TYPE) AS UNIQUE_CRIME_COUNT FROM ChicagoCrimeData;"
   ]
  },
  {
   "cell_type": "code",
   "execution_count": 229,
   "id": "c73529f9-feea-482e-bdcc-6f9369381eb0",
   "metadata": {},
   "outputs": [
    {
     "name": "stdout",
     "output_type": "stream",
     "text": [
      " * sqlite:///FinalDB.db\n",
      "Done.\n"
     ]
    },
    {
     "data": {
      "text/html": [
       "<table>\n",
       "    <thead>\n",
       "        <tr>\n",
       "            <th>Message</th>\n",
       "        </tr>\n",
       "    </thead>\n",
       "    <tbody>\n",
       "        <tr>\n",
       "            <td>The number of unique crimes is: 35</td>\n",
       "        </tr>\n",
       "    </tbody>\n",
       "</table>"
      ],
      "text/plain": [
       "[('The number of unique crimes is: 35',)]"
      ]
     },
     "execution_count": 229,
     "metadata": {},
     "output_type": "execute_result"
    }
   ],
   "source": [
    "%sql SELECT 'The number of unique crimes is: ' || COUNT(DISTINCT PRIMARY_TYPE) AS Message FROM ChicagoCrimeData;"
   ]
  },
  {
   "cell_type": "markdown",
   "id": "0394bbc6-d6c0-4857-ac7d-899ff830fc93",
   "metadata": {},
   "source": [
    "##### Answer to Q1. \n",
    "The total number of crimes recorded from 2001 to the present (except for murder) is 533. These consist of 35 types of crimes, the most common being theft. "
   ]
  },
  {
   "cell_type": "markdown",
   "id": "1501f08e-d55c-453d-8976-bf9ce8079c8b",
   "metadata": {},
   "source": [
    "#### Q2. List the community area names and numbers with per capita income less than 11000."
   ]
  },
  {
   "cell_type": "code",
   "execution_count": 468,
   "id": "f416a3e0-262c-4d4b-a70d-9854a2a29441",
   "metadata": {},
   "outputs": [],
   "source": [
    "#%sql SELECT * FROM ChicagoCensusData limit 5;"
   ]
  },
  {
   "cell_type": "code",
   "execution_count": 279,
   "id": "0f9bc528-3791-41ac-a168-b37e8fcfd73d",
   "metadata": {},
   "outputs": [
    {
     "name": "stdout",
     "output_type": "stream",
     "text": [
      " * sqlite:///FinalDB.db\n",
      "Done.\n"
     ]
    },
    {
     "data": {
      "text/html": [
       "<table>\n",
       "    <thead>\n",
       "        <tr>\n",
       "            <th>COMMUNITY_AREA_NAME</th>\n",
       "            <th>COMMUNITY_AREA_NUMBER</th>\n",
       "            <th>PER_CAPITA_INCOME</th>\n",
       "        </tr>\n",
       "    </thead>\n",
       "    <tbody>\n",
       "        <tr>\n",
       "            <td>West Garfield Park</td>\n",
       "            <td>26.0</td>\n",
       "            <td>10934</td>\n",
       "        </tr>\n",
       "        <tr>\n",
       "            <td>South Lawndale</td>\n",
       "            <td>30.0</td>\n",
       "            <td>10402</td>\n",
       "        </tr>\n",
       "        <tr>\n",
       "            <td>Fuller Park</td>\n",
       "            <td>37.0</td>\n",
       "            <td>10432</td>\n",
       "        </tr>\n",
       "        <tr>\n",
       "            <td>Riverdale</td>\n",
       "            <td>54.0</td>\n",
       "            <td>8201</td>\n",
       "        </tr>\n",
       "    </tbody>\n",
       "</table>"
      ],
      "text/plain": [
       "[('West Garfield Park', 26.0, 10934),\n",
       " ('South Lawndale', 30.0, 10402),\n",
       " ('Fuller Park', 37.0, 10432),\n",
       " ('Riverdale', 54.0, 8201)]"
      ]
     },
     "execution_count": 279,
     "metadata": {},
     "output_type": "execute_result"
    }
   ],
   "source": [
    "%sql SELECT COMMUNITY_AREA_NAME, COMMUNITY_AREA_NUMBER, PER_CAPITA_INCOME FROM ChicagoCensusData WHERE PER_CAPITA_INCOME < 11000;"
   ]
  },
  {
   "cell_type": "markdown",
   "id": "a2ebcf78-449e-4f30-ac25-616bfac8a752",
   "metadata": {},
   "source": [
    "#### Q3. List all case numbers for crimes involving minors.\n",
    "(Children are not considered minors for the purposes of crime analysis) "
   ]
  },
  {
   "cell_type": "code",
   "execution_count": 470,
   "id": "061b3764-a3b5-4bc3-bd12-04bcb35ea6af",
   "metadata": {},
   "outputs": [],
   "source": [
    "#%sql SELECT CASE_NUMBER FROM ChicagoCrimeData WHERE DESCRIPTION LIKE '%MINOR%';"
   ]
  },
  {
   "cell_type": "code",
   "execution_count": 307,
   "id": "e0a427ba-ca02-43f0-ab59-7fe741f9b6fe",
   "metadata": {},
   "outputs": [
    {
     "name": "stdout",
     "output_type": "stream",
     "text": [
      " * sqlite:///FinalDB.db\n",
      "Done.\n"
     ]
    },
    {
     "data": {
      "text/html": [
       "<table>\n",
       "    <thead>\n",
       "        <tr>\n",
       "            <th>CASE_NUMBER</th>\n",
       "            <th>PRIMARY_TYPE</th>\n",
       "            <th>DESCRIPTION</th>\n",
       "        </tr>\n",
       "    </thead>\n",
       "    <tbody>\n",
       "        <tr>\n",
       "            <td>HK238408</td>\n",
       "            <td>LIQUOR LAW VIOLATION</td>\n",
       "            <td>ILLEGAL CONSUMPTION BY MINOR</td>\n",
       "        </tr>\n",
       "        <tr>\n",
       "            <td>HL266884</td>\n",
       "            <td>LIQUOR LAW VIOLATION</td>\n",
       "            <td>SELL/GIVE/DEL LIQUOR TO MINOR</td>\n",
       "        </tr>\n",
       "    </tbody>\n",
       "</table>"
      ],
      "text/plain": [
       "[('HK238408', 'LIQUOR LAW VIOLATION', 'ILLEGAL CONSUMPTION BY MINOR'),\n",
       " ('HL266884', 'LIQUOR LAW VIOLATION', 'SELL/GIVE/DEL LIQUOR TO MINOR')]"
      ]
     },
     "execution_count": 307,
     "metadata": {},
     "output_type": "execute_result"
    }
   ],
   "source": [
    "%sql SELECT CASE_NUMBER, PRIMARY_TYPE, DESCRIPTION FROM ChicagoCrimeData WHERE DESCRIPTION LIKE '%minor%' ORDER BY CASE_NUMBER;"
   ]
  },
  {
   "cell_type": "markdown",
   "id": "89b24afe-3764-4b3e-9e7c-0068db350bb8",
   "metadata": {},
   "source": []
  },
  {
   "cell_type": "markdown",
   "id": "8f886715-3319-41d5-b36d-b9117218d40d",
   "metadata": {},
   "source": [
    "#### Q4. List all kidnapping crimes involving a child."
   ]
  },
  {
   "cell_type": "code",
   "execution_count": 302,
   "id": "d78704a0-c7ef-4837-8c05-556438d1c490",
   "metadata": {},
   "outputs": [
    {
     "name": "stdout",
     "output_type": "stream",
     "text": [
      " * sqlite:///FinalDB.db\n",
      "Done.\n"
     ]
    },
    {
     "data": {
      "text/html": [
       "<table>\n",
       "    <thead>\n",
       "        <tr>\n",
       "            <th>CASE_NUMBER</th>\n",
       "            <th>PRIMARY_TYPE</th>\n",
       "            <th>DESCRIPTION</th>\n",
       "            <th>DATE</th>\n",
       "            <th>BLOCK</th>\n",
       "            <th>LOCATION_DESCRIPTION</th>\n",
       "        </tr>\n",
       "    </thead>\n",
       "    <tbody>\n",
       "        <tr>\n",
       "            <td>HN144152</td>\n",
       "            <td>KIDNAPPING</td>\n",
       "            <td>CHILD ABDUCTION/STRANGER</td>\n",
       "            <td>2007-01-26</td>\n",
       "            <td>050XX W VAN BUREN ST</td>\n",
       "            <td>STREET</td>\n",
       "        </tr>\n",
       "    </tbody>\n",
       "</table>"
      ],
      "text/plain": [
       "[('HN144152', 'KIDNAPPING', 'CHILD ABDUCTION/STRANGER', '2007-01-26', '050XX W VAN BUREN ST', 'STREET')]"
      ]
     },
     "execution_count": 302,
     "metadata": {},
     "output_type": "execute_result"
    }
   ],
   "source": [
    "%sql SELECT CASE_NUMBER, PRIMARY_TYPE, DESCRIPTION, DATE, BLOCK, LOCATION_DESCRIPTION FROM ChicagoCrimeData WHERE PRIMARY_TYPE = 'KIDNAPPING'"
   ]
  },
  {
   "cell_type": "markdown",
   "id": "9daf5da0-fbb9-40b4-a8c1-bc6f8d434d81",
   "metadata": {},
   "source": [
    "#### Q5. List the kind of crimes that were recorded at schools (exclude repetitions)"
   ]
  },
  {
   "cell_type": "code",
   "execution_count": 337,
   "id": "89b93b46-2053-41e3-a871-675e55f7a948",
   "metadata": {},
   "outputs": [],
   "source": [
    "#%sql SELECT LOCATION_DESCRIPTION, COUNT(*) AS FREQUENCY FROM ChicagoCrimeData GROUP BY LOCATION_DESCRIPTION ORDER BY FREQUENCY DESC;"
   ]
  },
  {
   "cell_type": "code",
   "execution_count": 335,
   "id": "9022e8be-f03e-494c-a30e-879f1c1c0019",
   "metadata": {},
   "outputs": [],
   "source": [
    "#%sql SELECT PRIMARY_TYPE, CASE_NUMBER, LOCATION_DESCRIPTION FROM ChicagoCrimeData WHERE LOCATION_DESCRIPTION LIKE '%school%' "
   ]
  },
  {
   "cell_type": "code",
   "execution_count": 333,
   "id": "a7ce231b-b782-4d0c-977d-d005f58385d6",
   "metadata": {},
   "outputs": [
    {
     "name": "stdout",
     "output_type": "stream",
     "text": [
      " * sqlite:///FinalDB.db\n",
      "Done.\n"
     ]
    },
    {
     "data": {
      "text/html": [
       "<table>\n",
       "    <thead>\n",
       "        <tr>\n",
       "            <th>PRIMARY_TYPE</th>\n",
       "        </tr>\n",
       "    </thead>\n",
       "    <tbody>\n",
       "        <tr>\n",
       "            <td>BATTERY</td>\n",
       "        </tr>\n",
       "        <tr>\n",
       "            <td>CRIMINAL DAMAGE</td>\n",
       "        </tr>\n",
       "        <tr>\n",
       "            <td>NARCOTICS</td>\n",
       "        </tr>\n",
       "        <tr>\n",
       "            <td>ASSAULT</td>\n",
       "        </tr>\n",
       "        <tr>\n",
       "            <td>CRIMINAL TRESPASS</td>\n",
       "        </tr>\n",
       "        <tr>\n",
       "            <td>PUBLIC PEACE VIOLATION</td>\n",
       "        </tr>\n",
       "    </tbody>\n",
       "</table>"
      ],
      "text/plain": [
       "[('BATTERY',),\n",
       " ('CRIMINAL DAMAGE',),\n",
       " ('NARCOTICS',),\n",
       " ('ASSAULT',),\n",
       " ('CRIMINAL TRESPASS',),\n",
       " ('PUBLIC PEACE VIOLATION',)]"
      ]
     },
     "execution_count": 333,
     "metadata": {},
     "output_type": "execute_result"
    }
   ],
   "source": [
    "%sql SELECT DISTINCT PRIMARY_TYPE FROM ChicagoCrimeData WHERE LOWER(LOCATION_DESCRIPTION) LIKE '%school%' "
   ]
  },
  {
   "cell_type": "markdown",
   "id": "a275fb4f-ad48-4d0e-9a77-a3e78f8c730d",
   "metadata": {},
   "source": [
    "#### Q6. List the type of schools with the average safety score for each."
   ]
  },
  {
   "cell_type": "markdown",
   "id": "96cda9d4-c18c-48b4-9af4-e324d234521b",
   "metadata": {},
   "source": [
    "Since there is no column with safety scores, I will compute the average number of incidents associated with the types of schools, and assign weights to types of crime to calculate an approximation of an average \"safety score\". "
   ]
  },
  {
   "cell_type": "code",
   "execution_count": 352,
   "id": "91bc3892-bff9-44a1-821d-5c2776a48abe",
   "metadata": {},
   "outputs": [
    {
     "name": "stdout",
     "output_type": "stream",
     "text": [
      " * sqlite:///FinalDB.db\n",
      "Done.\n"
     ]
    },
    {
     "data": {
      "text/html": [
       "<table>\n",
       "    <thead>\n",
       "        <tr>\n",
       "            <th>LOCATION_DESCRIPTION</th>\n",
       "        </tr>\n",
       "    </thead>\n",
       "    <tbody>\n",
       "        <tr>\n",
       "            <td>SCHOOL, PUBLIC, GROUNDS</td>\n",
       "        </tr>\n",
       "        <tr>\n",
       "            <td>SCHOOL, PUBLIC, BUILDING</td>\n",
       "        </tr>\n",
       "        <tr>\n",
       "            <td>SCHOOL, PRIVATE, BUILDING</td>\n",
       "        </tr>\n",
       "    </tbody>\n",
       "</table>"
      ],
      "text/plain": [
       "[('SCHOOL, PUBLIC, GROUNDS',),\n",
       " ('SCHOOL, PUBLIC, BUILDING',),\n",
       " ('SCHOOL, PRIVATE, BUILDING',)]"
      ]
     },
     "execution_count": 352,
     "metadata": {},
     "output_type": "execute_result"
    }
   ],
   "source": [
    "# List types of schools and location.\n",
    "%sql SELECT DISTINCT LOCATION_DESCRIPTION FROM ChicagoCrimeData WHERE LOCATION_DESCRIPTION LIKE '%school%';"
   ]
  },
  {
   "cell_type": "code",
   "execution_count": 417,
   "id": "70612370-ccca-4d0a-8dd1-3556de2e45ec",
   "metadata": {},
   "outputs": [
    {
     "name": "stdout",
     "output_type": "stream",
     "text": [
      " * sqlite:///FinalDB.db\n",
      "Done.\n"
     ]
    },
    {
     "data": {
      "text/html": [
       "<table>\n",
       "    <thead>\n",
       "        <tr>\n",
       "            <th>LOCATION_DESCRIPTION</th>\n",
       "            <th>PRIMARY_TYPE</th>\n",
       "        </tr>\n",
       "    </thead>\n",
       "    <tbody>\n",
       "        <tr>\n",
       "            <td>SCHOOL, PUBLIC, GROUNDS</td>\n",
       "            <td>6</td>\n",
       "        </tr>\n",
       "        <tr>\n",
       "            <td>SCHOOL, PUBLIC, BUILDING</td>\n",
       "            <td>5</td>\n",
       "        </tr>\n",
       "        <tr>\n",
       "            <td>SCHOOL, PRIVATE, BUILDING</td>\n",
       "            <td>1</td>\n",
       "        </tr>\n",
       "    </tbody>\n",
       "</table>"
      ],
      "text/plain": [
       "[('SCHOOL, PUBLIC, GROUNDS', 6),\n",
       " ('SCHOOL, PUBLIC, BUILDING', 5),\n",
       " ('SCHOOL, PRIVATE, BUILDING', 1)]"
      ]
     },
     "execution_count": 417,
     "metadata": {},
     "output_type": "execute_result"
    }
   ],
   "source": [
    "# Count number of crimes (of any type), sorted by a distinct type of school\n",
    "%sql SELECT LOCATION_DESCRIPTION, COUNT(*) AS PRIMARY_TYPE FROM ChicagoCrimeData WHERE LOCATION_DESCRIPTION LIKE '%school%' GROUP BY LOCATION_DESCRIPTION ORDER BY PRIMARY_TYPE DESC;"
   ]
  },
  {
   "cell_type": "code",
   "execution_count": 426,
   "id": "e6886fd4-cf8f-415a-9e9d-fe099bc0c718",
   "metadata": {},
   "outputs": [
    {
     "name": "stdout",
     "output_type": "stream",
     "text": [
      " * sqlite:///FinalDB.db\n",
      "Done.\n"
     ]
    },
    {
     "data": {
      "text/html": [
       "<table>\n",
       "    <thead>\n",
       "        <tr>\n",
       "            <th>PRIMARY_TYPE</th>\n",
       "            <th>LOCATION_DESCRIPTION</th>\n",
       "            <th>PRIMARY_TYPE_1</th>\n",
       "        </tr>\n",
       "    </thead>\n",
       "    <tbody>\n",
       "        <tr>\n",
       "            <td>BATTERY</td>\n",
       "            <td>SCHOOL, PUBLIC, BUILDING</td>\n",
       "            <td>3</td>\n",
       "        </tr>\n",
       "        <tr>\n",
       "            <td>BATTERY</td>\n",
       "            <td>SCHOOL, PUBLIC, GROUNDS</td>\n",
       "            <td>2</td>\n",
       "        </tr>\n",
       "        <tr>\n",
       "            <td>ASSAULT</td>\n",
       "            <td>SCHOOL, PUBLIC, GROUNDS</td>\n",
       "            <td>1</td>\n",
       "        </tr>\n",
       "        <tr>\n",
       "            <td>CRIMINAL DAMAGE</td>\n",
       "            <td>SCHOOL, PUBLIC, GROUNDS</td>\n",
       "            <td>1</td>\n",
       "        </tr>\n",
       "        <tr>\n",
       "            <td>CRIMINAL TRESPASS</td>\n",
       "            <td>SCHOOL, PUBLIC, GROUNDS</td>\n",
       "            <td>1</td>\n",
       "        </tr>\n",
       "        <tr>\n",
       "            <td>NARCOTICS</td>\n",
       "            <td>SCHOOL, PUBLIC, BUILDING</td>\n",
       "            <td>1</td>\n",
       "        </tr>\n",
       "        <tr>\n",
       "            <td>NARCOTICS</td>\n",
       "            <td>SCHOOL, PUBLIC, GROUNDS</td>\n",
       "            <td>1</td>\n",
       "        </tr>\n",
       "        <tr>\n",
       "            <td>PUBLIC PEACE VIOLATION</td>\n",
       "            <td>SCHOOL, PRIVATE, BUILDING</td>\n",
       "            <td>1</td>\n",
       "        </tr>\n",
       "        <tr>\n",
       "            <td>PUBLIC PEACE VIOLATION</td>\n",
       "            <td>SCHOOL, PUBLIC, BUILDING</td>\n",
       "            <td>1</td>\n",
       "        </tr>\n",
       "    </tbody>\n",
       "</table>"
      ],
      "text/plain": [
       "[('BATTERY', 'SCHOOL, PUBLIC, BUILDING', 3),\n",
       " ('BATTERY', 'SCHOOL, PUBLIC, GROUNDS', 2),\n",
       " ('ASSAULT', 'SCHOOL, PUBLIC, GROUNDS', 1),\n",
       " ('CRIMINAL DAMAGE', 'SCHOOL, PUBLIC, GROUNDS', 1),\n",
       " ('CRIMINAL TRESPASS', 'SCHOOL, PUBLIC, GROUNDS', 1),\n",
       " ('NARCOTICS', 'SCHOOL, PUBLIC, BUILDING', 1),\n",
       " ('NARCOTICS', 'SCHOOL, PUBLIC, GROUNDS', 1),\n",
       " ('PUBLIC PEACE VIOLATION', 'SCHOOL, PRIVATE, BUILDING', 1),\n",
       " ('PUBLIC PEACE VIOLATION', 'SCHOOL, PUBLIC, BUILDING', 1)]"
      ]
     },
     "execution_count": 426,
     "metadata": {},
     "output_type": "execute_result"
    }
   ],
   "source": [
    "# This time also include the type of crime\n",
    "%sql SELECT PRIMARY_TYPE, LOCATION_DESCRIPTION, COUNT(*) AS PRIMARY_TYPE FROM ChicagoCrimeData WHERE LOCATION_DESCRIPTION LIKE '%school%' GROUP BY PRIMARY_TYPE, LOCATION_DESCRIPTION ORDER BY PRIMARY_TYPE DESC;"
   ]
  },
  {
   "cell_type": "markdown",
   "id": "e0674097-e5b0-4c3d-bba2-64619b9466a2",
   "metadata": {},
   "source": [
    "Assign weights to the type of crime and explain rationale\\\n",
    "| Crime Type | Weight | Rationale | \\\n",
    "| Battery | 8 | High severity due to potential physical harm and emotional distress to victims. | \\\n",
    "| Assault | 8 | Similar to battery; involves threats or attempts to cause harm, high emotional impact. |\\\n",
    "| Criminal Damage | 5 | Moderate severity; affects property, but does not directly harm individuals. |\\\n",
    "| Criminal Trespass | 3 | Lower severity; primarily a property crime, usually does not involve direct harm. |\\\n",
    "| Narcotics | 6 | Moderate to high weight; can lead to significant societal issues, including health risks. |\\\n",
    "| Public Peace Violation| 4 | Lower to moderate weight; disrupts community order but typically does not involve harm. |"
   ]
  },
  {
   "cell_type": "code",
   "execution_count": 474,
   "id": "d52e7a3e-e35c-41b3-8f30-8cc1779411e0",
   "metadata": {},
   "outputs": [
    {
     "name": "stdout",
     "output_type": "stream",
     "text": [
      "        LOCATION_DESCRIPTION  Total_Weighted_Score  Total_Incidents  \\\n",
      "0  SCHOOL, PRIVATE, BUILDING                     4                1   \n",
      "1   SCHOOL, PUBLIC, BUILDING                    34                5   \n",
      "2    SCHOOL, PUBLIC, GROUNDS                    38                6   \n",
      "\n",
      "   Average_Safety_Score  \n",
      "0                  4.00  \n",
      "1                  6.80  \n",
      "2                  6.33  \n"
     ]
    }
   ],
   "source": [
    "# Calculate an \"average safety score\" for each school and location \n",
    "import pandas as pd\n",
    "\n",
    "# Input data\n",
    "data = {\n",
    "    \"PRIMARY_TYPE\": [\"BATTERY\", \"BATTERY\", \"ASSAULT\", \"CRIMINAL DAMAGE\", \"CRIMINAL TRESPASS\", \n",
    "                     \"NARCOTICS\", \"NARCOTICS\", \"PUBLIC PEACE VIOLATION\", \"PUBLIC PEACE VIOLATION\"],\n",
    "    \"LOCATION_DESCRIPTION\": [\"SCHOOL, PUBLIC, BUILDING\", \"SCHOOL, PUBLIC, GROUNDS\", \"SCHOOL, PUBLIC, GROUNDS\",\n",
    "                              \"SCHOOL, PUBLIC, GROUNDS\", \"SCHOOL, PUBLIC, GROUNDS\", \"SCHOOL, PUBLIC, BUILDING\",\n",
    "                              \"SCHOOL, PUBLIC, GROUNDS\", \"SCHOOL, PRIVATE, BUILDING\", \"SCHOOL, PUBLIC, BUILDING\"],\n",
    "    \"PRIMARY_TYPE_1\": [3, 2, 1, 1, 1, 1, 1, 1, 1]\n",
    "}\n",
    "\n",
    "weights = {\n",
    "    \"BATTERY\": 8,\n",
    "    \"ASSAULT\": 8,\n",
    "    \"CRIMINAL DAMAGE\": 5,\n",
    "    \"CRIMINAL TRESPASS\": 3,\n",
    "    \"NARCOTICS\": 6,\n",
    "    \"PUBLIC PEACE VIOLATION\": 4\n",
    "}\n",
    "\n",
    "# Create DataFrame\n",
    "df = pd.DataFrame(data)\n",
    "\n",
    "# Add a weight column based on PRIMARY_TYPE\n",
    "df[\"Weight\"] = df[\"PRIMARY_TYPE\"].map(weights)\n",
    "\n",
    "# Calculate weighted scores (incidents * weight)\n",
    "df[\"Weighted_Score\"] = df[\"PRIMARY_TYPE_1\"] * df[\"Weight\"]\n",
    "\n",
    "# Group by LOCATION_DESCRIPTION and calculate average safety score\n",
    "result = df.groupby(\"LOCATION_DESCRIPTION\").agg(\n",
    "    Total_Weighted_Score=(\"Weighted_Score\", \"sum\"),\n",
    "    Total_Incidents=(\"PRIMARY_TYPE_1\", \"sum\")\n",
    ").reset_index()\n",
    "\n",
    "# Calculate average safety score\n",
    "result[\"Average_Safety_Score\"] = round(result[\"Total_Weighted_Score\"] / result[\"Total_Incidents\"], 2)\n",
    "\n",
    "# Display results\n",
    "print(result)\n"
   ]
  },
  {
   "cell_type": "code",
   "execution_count": 476,
   "id": "20b04110-57cf-4a15-93a8-7e5b0dc83161",
   "metadata": {},
   "outputs": [
    {
     "name": "stdout",
     "output_type": "stream",
     "text": [
      "        LOCATION_DESCRIPTION  Total_Weighted_Score  Total_Incidents  \\\n",
      "0  SCHOOL, PRIVATE, BUILDING                     4                1   \n",
      "1             SCHOOL, PUBLIC                    72               11   \n",
      "\n",
      "   Average_Safety_Score  \n",
      "0                  4.00  \n",
      "1                  6.55  \n"
     ]
    }
   ],
   "source": [
    "import pandas as pd\n",
    "\n",
    "# Input data\n",
    "data = {\n",
    "    \"PRIMARY_TYPE\": [\"BATTERY\", \"BATTERY\", \"ASSAULT\", \"CRIMINAL DAMAGE\", \"CRIMINAL TRESPASS\", \n",
    "                     \"NARCOTICS\", \"NARCOTICS\", \"PUBLIC PEACE VIOLATION\", \"PUBLIC PEACE VIOLATION\"],\n",
    "    \"LOCATION_DESCRIPTION\": [\"SCHOOL, PUBLIC, BUILDING\", \"SCHOOL, PUBLIC, GROUNDS\", \"SCHOOL, PUBLIC, GROUNDS\",\n",
    "                              \"SCHOOL, PUBLIC, GROUNDS\", \"SCHOOL, PUBLIC, GROUNDS\", \"SCHOOL, PUBLIC, BUILDING\",\n",
    "                              \"SCHOOL, PUBLIC, GROUNDS\", \"SCHOOL, PRIVATE, BUILDING\", \"SCHOOL, PUBLIC, BUILDING\"],\n",
    "    \"PRIMARY_TYPE_1\": [3, 2, 1, 1, 1, 1, 1, 1, 1]\n",
    "}\n",
    "\n",
    "weights = {\n",
    "    \"BATTERY\": 8,\n",
    "    \"ASSAULT\": 8,\n",
    "    \"CRIMINAL DAMAGE\": 5,\n",
    "    \"CRIMINAL TRESPASS\": 3,\n",
    "    \"NARCOTICS\": 6,\n",
    "    \"PUBLIC PEACE VIOLATION\": 4\n",
    "}\n",
    "\n",
    "# Create DataFrame\n",
    "df = pd.DataFrame(data)\n",
    "\n",
    "# Add a weight column based on PRIMARY_TYPE\n",
    "df[\"Weight\"] = df[\"PRIMARY_TYPE\"].map(weights)\n",
    "\n",
    "# Calculate weighted scores (incidents * weight)\n",
    "df[\"Weighted_Score\"] = df[\"PRIMARY_TYPE_1\"] * df[\"Weight\"]\n",
    "\n",
    "# Combine locations for public schools\n",
    "df[\"LOCATION_DESCRIPTION\"] = df[\"LOCATION_DESCRIPTION\"].replace(\n",
    "    {\"SCHOOL, PUBLIC, BUILDING\": \"SCHOOL, PUBLIC\", \"SCHOOL, PUBLIC, GROUNDS\": \"SCHOOL, PUBLIC\"}\n",
    ")\n",
    "\n",
    "# Group by LOCATION_DESCRIPTION and calculate total weighted scores and total incidents\n",
    "result = df.groupby(\"LOCATION_DESCRIPTION\").agg(\n",
    "    Total_Weighted_Score=(\"Weighted_Score\", \"sum\"),\n",
    "    Total_Incidents=(\"PRIMARY_TYPE_1\", \"sum\")\n",
    ").reset_index()\n",
    "\n",
    "# Calculate average safety score\n",
    "result[\"Average_Safety_Score\"] = round(result[\"Total_Weighted_Score\"] / result[\"Total_Incidents\"], 2)\n",
    "\n",
    "# Display results\n",
    "print(result)"
   ]
  },
  {
   "cell_type": "markdown",
   "id": "41ee361e-9110-4e52-bb36-9b86c89b919a",
   "metadata": {},
   "source": [
    "#### Q7. List the community areas with highest % of households below poverty line."
   ]
  },
  {
   "cell_type": "code",
   "execution_count": 480,
   "id": "cfb50f7b-7bf5-4689-9db6-710a51bf1f88",
   "metadata": {},
   "outputs": [
    {
     "name": "stdout",
     "output_type": "stream",
     "text": [
      " * sqlite:///FinalDB.db\n",
      "Done.\n"
     ]
    },
    {
     "data": {
      "text/html": [
       "<table>\n",
       "    <thead>\n",
       "        <tr>\n",
       "            <th>COMMUNITY_AREA_NUMBER</th>\n",
       "            <th>COMMUNITY_AREA_NAME</th>\n",
       "            <th>PERCENT_OF_HOUSING_CROWDED</th>\n",
       "            <th>PERCENT_HOUSEHOLDS_BELOW_POVERTY</th>\n",
       "            <th>PERCENT_AGED_16__UNEMPLOYED</th>\n",
       "            <th>PERCENT_AGED_25__WITHOUT_HIGH_SCHOOL_DIPLOMA</th>\n",
       "            <th>PERCENT_AGED_UNDER_18_OR_OVER_64</th>\n",
       "            <th>PER_CAPITA_INCOME</th>\n",
       "            <th>HARDSHIP_INDEX</th>\n",
       "        </tr>\n",
       "    </thead>\n",
       "    <tbody>\n",
       "        <tr>\n",
       "            <td>1.0</td>\n",
       "            <td>Rogers Park</td>\n",
       "            <td>7.7</td>\n",
       "            <td>23.6</td>\n",
       "            <td>8.7</td>\n",
       "            <td>18.2</td>\n",
       "            <td>27.5</td>\n",
       "            <td>23939</td>\n",
       "            <td>39.0</td>\n",
       "        </tr>\n",
       "    </tbody>\n",
       "</table>"
      ],
      "text/plain": [
       "[(1.0, 'Rogers Park', 7.7, 23.6, 8.7, 18.2, 27.5, 23939, 39.0)]"
      ]
     },
     "execution_count": 480,
     "metadata": {},
     "output_type": "execute_result"
    }
   ],
   "source": [
    "%sql SELECT * FROM ChicagoCensusData LIMIT 1;"
   ]
  },
  {
   "cell_type": "code",
   "execution_count": 497,
   "id": "9c8fe870-5a79-4645-9919-671c256d8dd1",
   "metadata": {},
   "outputs": [
    {
     "name": "stdout",
     "output_type": "stream",
     "text": [
      " * sqlite:///FinalDB.db\n",
      "Done.\n"
     ]
    },
    {
     "data": {
      "text/html": [
       "<table>\n",
       "    <thead>\n",
       "        <tr>\n",
       "            <th>COMMUNITY_AREA_NAME</th>\n",
       "            <th>PERCENT_HOUSEHOLDS_BELOW_POVERTY</th>\n",
       "        </tr>\n",
       "    </thead>\n",
       "    <tbody>\n",
       "        <tr>\n",
       "            <td>Riverdale</td>\n",
       "            <td>56.5</td>\n",
       "        </tr>\n",
       "        <tr>\n",
       "            <td>Fuller Park</td>\n",
       "            <td>51.2</td>\n",
       "        </tr>\n",
       "        <tr>\n",
       "            <td>Englewood</td>\n",
       "            <td>46.6</td>\n",
       "        </tr>\n",
       "        <tr>\n",
       "            <td>North Lawndale</td>\n",
       "            <td>43.1</td>\n",
       "        </tr>\n",
       "        <tr>\n",
       "            <td>East Garfield Park</td>\n",
       "            <td>42.4</td>\n",
       "        </tr>\n",
       "        <tr>\n",
       "            <td>Washington Park</td>\n",
       "            <td>42.1</td>\n",
       "        </tr>\n",
       "        <tr>\n",
       "            <td>West Garfield Park</td>\n",
       "            <td>41.7</td>\n",
       "        </tr>\n",
       "        <tr>\n",
       "            <td>Armour Square</td>\n",
       "            <td>40.1</td>\n",
       "        </tr>\n",
       "        <tr>\n",
       "            <td>Oakland</td>\n",
       "            <td>39.7</td>\n",
       "        </tr>\n",
       "        <tr>\n",
       "            <td>West Englewood</td>\n",
       "            <td>34.4</td>\n",
       "        </tr>\n",
       "        <tr>\n",
       "            <td>Humboldt park</td>\n",
       "            <td>33.9</td>\n",
       "        </tr>\n",
       "        <tr>\n",
       "            <td>Burnside</td>\n",
       "            <td>33.0</td>\n",
       "        </tr>\n",
       "        <tr>\n",
       "            <td>South Shore</td>\n",
       "            <td>31.1</td>\n",
       "        </tr>\n",
       "        <tr>\n",
       "            <td>South Lawndale</td>\n",
       "            <td>30.7</td>\n",
       "        </tr>\n",
       "        <tr>\n",
       "            <td>Woodlawn</td>\n",
       "            <td>30.7</td>\n",
       "        </tr>\n",
       "        <tr>\n",
       "            <td>South Chicago</td>\n",
       "            <td>29.8</td>\n",
       "        </tr>\n",
       "        <tr>\n",
       "            <td>Douglas</td>\n",
       "            <td>29.6</td>\n",
       "        </tr>\n",
       "        <tr>\n",
       "            <td>Greater Grand Crossing</td>\n",
       "            <td>29.6</td>\n",
       "        </tr>\n",
       "        <tr>\n",
       "            <td>Grand Boulevard</td>\n",
       "            <td>29.3</td>\n",
       "        </tr>\n",
       "        <tr>\n",
       "            <td>South Deering</td>\n",
       "            <td>29.2</td>\n",
       "        </tr>\n",
       "        <tr>\n",
       "            <td>New City</td>\n",
       "            <td>29.0</td>\n",
       "        </tr>\n",
       "        <tr>\n",
       "            <td>Austin</td>\n",
       "            <td>28.6</td>\n",
       "        </tr>\n",
       "        <tr>\n",
       "            <td>Chicago Lawn</td>\n",
       "            <td>27.9</td>\n",
       "        </tr>\n",
       "        <tr>\n",
       "            <td>Chatham</td>\n",
       "            <td>27.8</td>\n",
       "        </tr>\n",
       "        <tr>\n",
       "            <td>Auburn Gresham</td>\n",
       "            <td>27.6</td>\n",
       "        </tr>\n",
       "        <tr>\n",
       "            <td>West Pullman</td>\n",
       "            <td>25.9</td>\n",
       "        </tr>\n",
       "        <tr>\n",
       "            <td>Lower West Side</td>\n",
       "            <td>25.8</td>\n",
       "        </tr>\n",
       "        <tr>\n",
       "            <td>Uptown</td>\n",
       "            <td>24.0</td>\n",
       "        </tr>\n",
       "        <tr>\n",
       "            <td>Rogers Park</td>\n",
       "            <td>23.6</td>\n",
       "        </tr>\n",
       "        <tr>\n",
       "            <td>Brighton Park</td>\n",
       "            <td>23.6</td>\n",
       "        </tr>\n",
       "        <tr>\n",
       "            <td>Gage Park</td>\n",
       "            <td>23.4</td>\n",
       "        </tr>\n",
       "        <tr>\n",
       "            <td>Kenwood</td>\n",
       "            <td>21.7</td>\n",
       "        </tr>\n",
       "        <tr>\n",
       "            <td>Pullman</td>\n",
       "            <td>21.6</td>\n",
       "        </tr>\n",
       "        <tr>\n",
       "            <td>Near West Side</td>\n",
       "            <td>20.6</td>\n",
       "        </tr>\n",
       "        <tr>\n",
       "            <td>Hermosa</td>\n",
       "            <td>20.5</td>\n",
       "        </tr>\n",
       "        <tr>\n",
       "            <td>Roseland</td>\n",
       "            <td>19.8</td>\n",
       "        </tr>\n",
       "        <tr>\n",
       "            <td>CHICAGO</td>\n",
       "            <td>19.7</td>\n",
       "        </tr>\n",
       "        <tr>\n",
       "            <td>Albany Park</td>\n",
       "            <td>19.2</td>\n",
       "        </tr>\n",
       "        <tr>\n",
       "            <td>East Side</td>\n",
       "            <td>19.2</td>\n",
       "        </tr>\n",
       "        <tr>\n",
       "            <td>Bridgeport</td>\n",
       "            <td>18.9</td>\n",
       "        </tr>\n",
       "        <tr>\n",
       "            <td>Belmont Cragin</td>\n",
       "            <td>18.7</td>\n",
       "        </tr>\n",
       "        <tr>\n",
       "            <td>McKinley Park</td>\n",
       "            <td>18.7</td>\n",
       "        </tr>\n",
       "        <tr>\n",
       "            <td>Hyde Park</td>\n",
       "            <td>18.4</td>\n",
       "        </tr>\n",
       "        <tr>\n",
       "            <td>Edgewater</td>\n",
       "            <td>18.2</td>\n",
       "        </tr>\n",
       "        <tr>\n",
       "            <td>West Ridge</td>\n",
       "            <td>17.2</td>\n",
       "        </tr>\n",
       "        <tr>\n",
       "            <td>Avalon Park</td>\n",
       "            <td>17.2</td>\n",
       "        </tr>\n",
       "        <tr>\n",
       "            <td>Hegewisch</td>\n",
       "            <td>17.1</td>\n",
       "        </tr>\n",
       "        <tr>\n",
       "            <td>Washington Height</td>\n",
       "            <td>16.9</td>\n",
       "        </tr>\n",
       "        <tr>\n",
       "            <td>Logan Square</td>\n",
       "            <td>16.8</td>\n",
       "        </tr>\n",
       "        <tr>\n",
       "            <td>West Elsdon</td>\n",
       "            <td>15.6</td>\n",
       "        </tr>\n",
       "        <tr>\n",
       "            <td>O&#x27;Hare</td>\n",
       "            <td>15.4</td>\n",
       "        </tr>\n",
       "        <tr>\n",
       "            <td>Montclaire</td>\n",
       "            <td>15.3</td>\n",
       "        </tr>\n",
       "        <tr>\n",
       "            <td>Avondale</td>\n",
       "            <td>15.3</td>\n",
       "        </tr>\n",
       "        <tr>\n",
       "            <td>West Lawn</td>\n",
       "            <td>14.9</td>\n",
       "        </tr>\n",
       "        <tr>\n",
       "            <td>West Town</td>\n",
       "            <td>14.7</td>\n",
       "        </tr>\n",
       "        <tr>\n",
       "            <td>Loop</td>\n",
       "            <td>14.7</td>\n",
       "        </tr>\n",
       "        <tr>\n",
       "            <td>Archer Heights</td>\n",
       "            <td>14.1</td>\n",
       "        </tr>\n",
       "        <tr>\n",
       "            <td>Near South Side</td>\n",
       "            <td>13.8</td>\n",
       "        </tr>\n",
       "        <tr>\n",
       "            <td>North Park</td>\n",
       "            <td>13.2</td>\n",
       "        </tr>\n",
       "        <tr>\n",
       "            <td>Morgan Park</td>\n",
       "            <td>13.2</td>\n",
       "        </tr>\n",
       "        <tr>\n",
       "            <td>Irving Park</td>\n",
       "            <td>13.1</td>\n",
       "        </tr>\n",
       "        <tr>\n",
       "            <td>Near North Side</td>\n",
       "            <td>12.9</td>\n",
       "        </tr>\n",
       "        <tr>\n",
       "            <td>Lincoln Park</td>\n",
       "            <td>12.3</td>\n",
       "        </tr>\n",
       "        <tr>\n",
       "            <td>Portage Park</td>\n",
       "            <td>11.6</td>\n",
       "        </tr>\n",
       "        <tr>\n",
       "            <td>Calumet Heights</td>\n",
       "            <td>11.5</td>\n",
       "        </tr>\n",
       "        <tr>\n",
       "            <td>Lake View</td>\n",
       "            <td>11.4</td>\n",
       "        </tr>\n",
       "        <tr>\n",
       "            <td>Lincoln Square</td>\n",
       "            <td>10.9</td>\n",
       "        </tr>\n",
       "        <tr>\n",
       "            <td>Dunning</td>\n",
       "            <td>10.6</td>\n",
       "        </tr>\n",
       "        <tr>\n",
       "            <td>Ashburn</td>\n",
       "            <td>10.4</td>\n",
       "        </tr>\n",
       "        <tr>\n",
       "            <td>Clearing</td>\n",
       "            <td>8.9</td>\n",
       "        </tr>\n",
       "        <tr>\n",
       "            <td>Garfield Ridge</td>\n",
       "            <td>8.8</td>\n",
       "        </tr>\n",
       "        <tr>\n",
       "            <td>Jefferson Park</td>\n",
       "            <td>8.6</td>\n",
       "        </tr>\n",
       "        <tr>\n",
       "            <td>North Center</td>\n",
       "            <td>7.5</td>\n",
       "        </tr>\n",
       "        <tr>\n",
       "            <td>Forest Glen</td>\n",
       "            <td>7.5</td>\n",
       "        </tr>\n",
       "        <tr>\n",
       "            <td>Norwood Park</td>\n",
       "            <td>5.4</td>\n",
       "        </tr>\n",
       "        <tr>\n",
       "            <td>Beverly</td>\n",
       "            <td>5.1</td>\n",
       "        </tr>\n",
       "        <tr>\n",
       "            <td>Mount Greenwood</td>\n",
       "            <td>3.4</td>\n",
       "        </tr>\n",
       "        <tr>\n",
       "            <td>Edison Park</td>\n",
       "            <td>3.3</td>\n",
       "        </tr>\n",
       "    </tbody>\n",
       "</table>"
      ],
      "text/plain": [
       "[('Riverdale', 56.5),\n",
       " ('Fuller Park', 51.2),\n",
       " ('Englewood', 46.6),\n",
       " ('North Lawndale', 43.1),\n",
       " ('East Garfield Park', 42.4),\n",
       " ('Washington Park', 42.1),\n",
       " ('West Garfield Park', 41.7),\n",
       " ('Armour Square', 40.1),\n",
       " ('Oakland', 39.7),\n",
       " ('West Englewood', 34.4),\n",
       " ('Humboldt park', 33.9),\n",
       " ('Burnside', 33.0),\n",
       " ('South Shore', 31.1),\n",
       " ('South Lawndale', 30.7),\n",
       " ('Woodlawn', 30.7),\n",
       " ('South Chicago', 29.8),\n",
       " ('Douglas', 29.6),\n",
       " ('Greater Grand Crossing', 29.6),\n",
       " ('Grand Boulevard', 29.3),\n",
       " ('South Deering', 29.2),\n",
       " ('New City', 29.0),\n",
       " ('Austin', 28.6),\n",
       " ('Chicago Lawn', 27.9),\n",
       " ('Chatham', 27.8),\n",
       " ('Auburn Gresham', 27.6),\n",
       " ('West Pullman', 25.9),\n",
       " ('Lower West Side', 25.8),\n",
       " ('Uptown', 24.0),\n",
       " ('Rogers Park', 23.6),\n",
       " ('Brighton Park', 23.6),\n",
       " ('Gage Park', 23.4),\n",
       " ('Kenwood', 21.7),\n",
       " ('Pullman', 21.6),\n",
       " ('Near West Side', 20.6),\n",
       " ('Hermosa', 20.5),\n",
       " ('Roseland', 19.8),\n",
       " ('CHICAGO', 19.7),\n",
       " ('Albany Park', 19.2),\n",
       " ('East Side', 19.2),\n",
       " ('Bridgeport', 18.9),\n",
       " ('Belmont Cragin', 18.7),\n",
       " ('McKinley Park', 18.7),\n",
       " ('Hyde Park', 18.4),\n",
       " ('Edgewater', 18.2),\n",
       " ('West Ridge', 17.2),\n",
       " ('Avalon Park', 17.2),\n",
       " ('Hegewisch', 17.1),\n",
       " ('Washington Height', 16.9),\n",
       " ('Logan Square', 16.8),\n",
       " ('West Elsdon', 15.6),\n",
       " (\"O'Hare\", 15.4),\n",
       " ('Montclaire', 15.3),\n",
       " ('Avondale', 15.3),\n",
       " ('West Lawn', 14.9),\n",
       " ('West Town', 14.7),\n",
       " ('Loop', 14.7),\n",
       " ('Archer Heights', 14.1),\n",
       " ('Near South Side', 13.8),\n",
       " ('North Park', 13.2),\n",
       " ('Morgan Park', 13.2),\n",
       " ('Irving Park', 13.1),\n",
       " ('Near North Side', 12.9),\n",
       " ('Lincoln Park', 12.3),\n",
       " ('Portage Park', 11.6),\n",
       " ('Calumet Heights', 11.5),\n",
       " ('Lake View', 11.4),\n",
       " ('Lincoln Square', 10.9),\n",
       " ('Dunning', 10.6),\n",
       " ('Ashburn', 10.4),\n",
       " ('Clearing', 8.9),\n",
       " ('Garfield Ridge', 8.8),\n",
       " ('Jefferson Park', 8.6),\n",
       " ('North Center', 7.5),\n",
       " ('Forest Glen', 7.5),\n",
       " ('Norwood Park', 5.4),\n",
       " ('Beverly', 5.1),\n",
       " ('Mount Greenwood', 3.4),\n",
       " ('Edison Park', 3.3)]"
      ]
     },
     "execution_count": 497,
     "metadata": {},
     "output_type": "execute_result"
    }
   ],
   "source": [
    "%sql SELECT COMMUNITY_AREA_NAME, PERCENT_HOUSEHOLDS_BELOW_POVERTY FROM ChicagoCensusData ORDER BY PERCENT_HOUSEHOLDS_BELOW_POVERTY DESC;"
   ]
  },
  {
   "cell_type": "markdown",
   "id": "1802909a-c9bf-4ade-9aff-440c257b5781",
   "metadata": {},
   "source": [
    "#### Q8. Which community area is most crime-prone?"
   ]
  },
  {
   "cell_type": "code",
   "execution_count": 492,
   "id": "024345bf-0597-4e2f-b7f0-bcf60a5d6ea2",
   "metadata": {},
   "outputs": [
    {
     "name": "stdout",
     "output_type": "stream",
     "text": [
      " * sqlite:///FinalDB.db\n",
      "Done.\n"
     ]
    },
    {
     "data": {
      "text/html": [
       "<table>\n",
       "    <thead>\n",
       "        <tr>\n",
       "            <th>COMMUNITY_AREA_NUMBER</th>\n",
       "            <th>PRIMARY_TYPE</th>\n",
       "        </tr>\n",
       "    </thead>\n",
       "    <tbody>\n",
       "        <tr>\n",
       "            <td>25.0</td>\n",
       "            <td>43</td>\n",
       "        </tr>\n",
       "    </tbody>\n",
       "</table>"
      ],
      "text/plain": [
       "[(25.0, 43)]"
      ]
     },
     "execution_count": 492,
     "metadata": {},
     "output_type": "execute_result"
    }
   ],
   "source": [
    "%sql SELECT COMMUNITY_AREA_NUMBER, COUNT(*) AS PRIMARY_TYPE FROM ChicagoCrimeData GROUP BY COMMUNITY_AREA_NUMBER ORDER BY PRIMARY_TYPE DESC LIMIT 1;"
   ]
  },
  {
   "cell_type": "markdown",
   "id": "e26eef51-a213-4c13-99d4-4ddfe2dd863b",
   "metadata": {},
   "source": [
    "The answer is the community area number 25."
   ]
  },
  {
   "cell_type": "markdown",
   "id": "6fa52907-d604-4a9a-9112-222dcbc663d3",
   "metadata": {},
   "source": [
    "#### Q9. Use a sub-query to find the name of the community area with highest hardship index."
   ]
  },
  {
   "cell_type": "code",
   "execution_count": 499,
   "id": "9b8a4ff7-86d5-4cf0-bfe5-36790d05a5cd",
   "metadata": {},
   "outputs": [
    {
     "name": "stdout",
     "output_type": "stream",
     "text": [
      " * sqlite:///FinalDB.db\n",
      "Done.\n"
     ]
    },
    {
     "data": {
      "text/html": [
       "<table>\n",
       "    <thead>\n",
       "        <tr>\n",
       "            <th>COMMUNITY_AREA_NAME</th>\n",
       "            <th>HARDSHIP_INDEX</th>\n",
       "        </tr>\n",
       "    </thead>\n",
       "    <tbody>\n",
       "        <tr>\n",
       "            <td>Riverdale</td>\n",
       "            <td>98.0</td>\n",
       "        </tr>\n",
       "    </tbody>\n",
       "</table>"
      ],
      "text/plain": [
       "[('Riverdale', 98.0)]"
      ]
     },
     "execution_count": 499,
     "metadata": {},
     "output_type": "execute_result"
    }
   ],
   "source": [
    "%sql SELECT COMMUNITY_AREA_NAME, HARDSHIP_INDEX FROM ChicagoCensusData WHERE HARDSHIP_INDEX = (SELECT MAX(HARDSHIP_INDEX) FROM ChicagoCensusData);"
   ]
  },
  {
   "cell_type": "markdown",
   "id": "1407b2ab-b0d1-4e41-b577-1b10f4eac728",
   "metadata": {},
   "source": [
    "#### Q10. Use a sub-query to determine the Community Area Name with most number of crimes?"
   ]
  },
  {
   "cell_type": "code",
   "execution_count": 517,
   "id": "30474dec-3eaf-4560-98e5-1a34b2ccab85",
   "metadata": {},
   "outputs": [
    {
     "name": "stdout",
     "output_type": "stream",
     "text": [
      " * sqlite:///FinalDB.db\n",
      "Done.\n"
     ]
    },
    {
     "data": {
      "text/html": [
       "<table>\n",
       "    <thead>\n",
       "        <tr>\n",
       "            <th>COMMUNITY_AREA_NUMBER</th>\n",
       "            <th>PRIMARY_TYPE</th>\n",
       "            <th>FREQUENCY</th>\n",
       "        </tr>\n",
       "    </thead>\n",
       "    <tbody>\n",
       "        <tr>\n",
       "            <td>None</td>\n",
       "            <td>BATTERY</td>\n",
       "            <td>11</td>\n",
       "        </tr>\n",
       "        <tr>\n",
       "            <td>25.0</td>\n",
       "            <td>BATTERY</td>\n",
       "            <td>10</td>\n",
       "        </tr>\n",
       "    </tbody>\n",
       "</table>"
      ],
      "text/plain": [
       "[(None, 'BATTERY', 11), (25.0, 'BATTERY', 10)]"
      ]
     },
     "execution_count": 517,
     "metadata": {},
     "output_type": "execute_result"
    }
   ],
   "source": [
    "%sql SELECT COMMUNITY_AREA_NUMBER, PRIMARY_TYPE, COUNT(*) AS FREQUENCY FROM ChicagoCrimeData GROUP BY COMMUNITY_AREA_NUMBER, PRIMARY_TYPE ORDER BY FREQUENCY DESC LIMIT 2;"
   ]
  },
  {
   "cell_type": "code",
   "execution_count": 513,
   "id": "f50f0aaf-c821-4025-984a-5337045d0eee",
   "metadata": {},
   "outputs": [
    {
     "name": "stdout",
     "output_type": "stream",
     "text": [
      " * sqlite:///FinalDB.db\n",
      "Done.\n"
     ]
    },
    {
     "data": {
      "text/html": [
       "<table>\n",
       "    <thead>\n",
       "        <tr>\n",
       "            <th>COMMUNITY_AREA_NAME</th>\n",
       "        </tr>\n",
       "    </thead>\n",
       "    <tbody>\n",
       "        <tr>\n",
       "            <td>Austin</td>\n",
       "        </tr>\n",
       "    </tbody>\n",
       "</table>"
      ],
      "text/plain": [
       "[('Austin',)]"
      ]
     },
     "execution_count": 513,
     "metadata": {},
     "output_type": "execute_result"
    }
   ],
   "source": [
    "%sql SELECT COMMUNITY_AREA_NAME FROM ChicagoCensusData WHERE COMMUNITY_AREA_NUMBER = 25; "
   ]
  },
  {
   "cell_type": "markdown",
   "id": "e6e0d2a8-03b5-4fa9-851b-b1afde3f5c94",
   "metadata": {},
   "source": [
    "A.10. The city with the second highest number of crimes, following the top location which lacks an area number, is Austin."
   ]
  }
 ],
 "metadata": {
  "kernelspec": {
   "display_name": "Python 3 (ipykernel)",
   "language": "python",
   "name": "python3"
  },
  "language_info": {
   "codemirror_mode": {
    "name": "ipython",
    "version": 3
   },
   "file_extension": ".py",
   "mimetype": "text/x-python",
   "name": "python",
   "nbconvert_exporter": "python",
   "pygments_lexer": "ipython3",
   "version": "3.12.4"
  }
 },
 "nbformat": 4,
 "nbformat_minor": 5
}
